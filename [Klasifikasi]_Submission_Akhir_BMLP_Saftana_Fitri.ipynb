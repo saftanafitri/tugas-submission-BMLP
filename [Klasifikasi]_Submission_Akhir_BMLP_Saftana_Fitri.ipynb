{
 "cells": [
  {
   "cell_type": "markdown",
   "metadata": {},
   "source": [
    "# **1. Import Library**"
   ]
  },
  {
   "cell_type": "markdown",
   "metadata": {},
   "source": [
    "Pada tahap ini, Anda perlu mengimpor beberapa pustaka (library) Python yang dibutuhkan untuk analisis data dan pembangunan model machine learning."
   ]
  },
  {
   "cell_type": "code",
   "execution_count": 39,
   "metadata": {},
   "outputs": [],
   "source": [
    "import pandas as pd\n",
    "from sklearn.model_selection import train_test_split\n",
    "from sklearn.ensemble import RandomForestClassifier\n",
    "from sklearn.linear_model import LogisticRegression\n",
    "from sklearn.metrics import classification_report\n",
    "from sklearn.metrics import confusion_matrix\n",
    "import seaborn as sns\n",
    "import matplotlib.pyplot as plt"
   ]
  },
  {
   "cell_type": "markdown",
   "metadata": {
    "id": "f3YIEnAFKrKL"
   },
   "source": [
    "# **2. Memuat Dataset dari Hasil Clustering**"
   ]
  },
  {
   "cell_type": "markdown",
   "metadata": {
    "id": "Ey3ItwTen_7E"
   },
   "source": [
    "Memuat dataset hasil clustering dari file CSV ke dalam variabel DataFrame."
   ]
  },
  {
   "cell_type": "code",
   "execution_count": 40,
   "metadata": {
    "id": "OubAW-7ONKVj"
   },
   "outputs": [
    {
     "data": {
      "text/html": [
       "<div>\n",
       "<style scoped>\n",
       "    .dataframe tbody tr th:only-of-type {\n",
       "        vertical-align: middle;\n",
       "    }\n",
       "\n",
       "    .dataframe tbody tr th {\n",
       "        vertical-align: top;\n",
       "    }\n",
       "\n",
       "    .dataframe thead th {\n",
       "        text-align: right;\n",
       "    }\n",
       "</style>\n",
       "<table border=\"1\" class=\"dataframe\">\n",
       "  <thead>\n",
       "    <tr style=\"text-align: right;\">\n",
       "      <th></th>\n",
       "      <th>Work_accident</th>\n",
       "      <th>left</th>\n",
       "      <th>Department</th>\n",
       "      <th>Cluster</th>\n",
       "    </tr>\n",
       "  </thead>\n",
       "  <tbody>\n",
       "    <tr>\n",
       "      <th>0</th>\n",
       "      <td>0.0</td>\n",
       "      <td>1.0</td>\n",
       "      <td>1.0</td>\n",
       "      <td>2</td>\n",
       "    </tr>\n",
       "    <tr>\n",
       "      <th>1</th>\n",
       "      <td>0.0</td>\n",
       "      <td>1.0</td>\n",
       "      <td>1.0</td>\n",
       "      <td>2</td>\n",
       "    </tr>\n",
       "    <tr>\n",
       "      <th>2</th>\n",
       "      <td>0.0</td>\n",
       "      <td>1.0</td>\n",
       "      <td>1.0</td>\n",
       "      <td>2</td>\n",
       "    </tr>\n",
       "    <tr>\n",
       "      <th>3</th>\n",
       "      <td>0.0</td>\n",
       "      <td>1.0</td>\n",
       "      <td>1.0</td>\n",
       "      <td>2</td>\n",
       "    </tr>\n",
       "    <tr>\n",
       "      <th>4</th>\n",
       "      <td>0.0</td>\n",
       "      <td>1.0</td>\n",
       "      <td>1.0</td>\n",
       "      <td>2</td>\n",
       "    </tr>\n",
       "  </tbody>\n",
       "</table>\n",
       "</div>"
      ],
      "text/plain": [
       "   Work_accident  left  Department  Cluster\n",
       "0            0.0   1.0         1.0        2\n",
       "1            0.0   1.0         1.0        2\n",
       "2            0.0   1.0         1.0        2\n",
       "3            0.0   1.0         1.0        2\n",
       "4            0.0   1.0         1.0        2"
      ]
     },
     "execution_count": 40,
     "metadata": {},
     "output_type": "execute_result"
    }
   ],
   "source": [
    "df = pd.read_csv('Dataset_clustering.csv')\n",
    "df.head()"
   ]
  },
  {
   "cell_type": "markdown",
   "metadata": {
    "id": "KkPem5eWL2UP"
   },
   "source": [
    "# **3. Data Splitting**"
   ]
  },
  {
   "cell_type": "markdown",
   "metadata": {
    "id": "YYj1rl_JNI9Y"
   },
   "source": [
    "Tahap Data Splitting bertujuan untuk memisahkan dataset menjadi dua bagian: data latih (training set) dan data uji (test set)."
   ]
  },
  {
   "cell_type": "code",
   "execution_count": 41,
   "metadata": {
    "id": "BlmvjLY9M4Yj"
   },
   "outputs": [
    {
     "name": "stdout",
     "output_type": "stream",
     "text": [
      "Training set shape: X_train=(9587, 3), y_train=(9587,)\n",
      "Test set shape: X_test=(2397, 3), y_test=(2397,)\n"
     ]
    }
   ],
   "source": [
    "# Pisahkan fitur (X) dan target (y)\n",
    "X = df.drop('Cluster', axis=1)\n",
    "y = df['Cluster']\n",
    " \n",
    "# Split data menjadi set pelatihan dan set uji\n",
    "X_train, X_test, y_train, y_test = train_test_split(X, y, test_size=0.2, random_state=42)\n",
    " \n",
    "# Tampilkan bentuk set pelatihan dan set uji untuk memastikan split\n",
    "print(f\"Training set shape: X_train={X_train.shape}, y_train={y_train.shape}\")\n",
    "print(f\"Test set shape: X_test={X_test.shape}, y_test={y_test.shape}\")"
   ]
  },
  {
   "cell_type": "markdown",
   "metadata": {
    "id": "IVPbB03CMhTT"
   },
   "source": [
    "# **4. Membangun Model Klasifikasi**\n"
   ]
  },
  {
   "cell_type": "markdown",
   "metadata": {
    "id": "Ned1pL9zMmBK"
   },
   "source": [
    "## **a. Membangun Model Klasifikasi**"
   ]
  },
  {
   "cell_type": "markdown",
   "metadata": {
    "id": "WAWzPOE4Nkti"
   },
   "source": [
    "Setelah memilih algoritma klasifikasi yang sesuai, langkah selanjutnya adalah melatih model menggunakan data latih.\n",
    "\n",
    "Berikut adalah rekomendasi tahapannya.\n",
    "1. Pilih algoritma klasifikasi yang sesuai, seperti Logistic Regression, Decision Tree, Random Forest, atau K-Nearest Neighbors (KNN).\n",
    "2. Latih model menggunakan data latih."
   ]
  },
  {
   "cell_type": "code",
   "execution_count": 42,
   "metadata": {
    "id": "4JYxBe87NLDk"
   },
   "outputs": [],
   "source": [
    "rf = RandomForestClassifier().fit(X_train, y_train)\n",
    "lr = LogisticRegression().fit(X_train, y_train)"
   ]
  },
  {
   "cell_type": "markdown",
   "metadata": {
    "id": "seYoHNY3XU1y"
   },
   "source": [
    "### **Penjelasan Pemilihan Algoritma**\n",
    "\n",
    "Dalam analisis ini, saya menggunakan dua algoritma klasifikasi, yaitu **Random Forest Classifier** dan **Logistic Regression**, untuk memprediksi apakah seorang karyawan akan keluar dari perusahaan berdasarkan beberapa faktor. Dataset yang digunakan terdiri dari hampir 12.000 entri dengan beberapa variabel utama, seperti riwayat kecelakaan kerja, departemen tempat bekerja, dan hasil klasterisasi.  \n",
    "\n",
    "**Random Forest Classifier** saya pilih karena kemampuannya dalam menangani data dalam jumlah besar dan mengurangi risiko overfitting. Algoritma ini bekerja dengan membangun banyak decision tree dan menggabungkan hasilnya untuk menghasilkan prediksi yang lebih akurat. Dalam konteks dataset ini, Random Forest membantu mengidentifikasi pola yang lebih kompleks, seperti bagaimana faktor kecelakaan kerja dan departemen dapat memengaruhi keputusan karyawan untuk tetap bekerja atau mengundurkan diri.  \n",
    "\n",
    "Di sisi lain, **Logistic Regression** saya gunakan karena kesederhanaannya dan kemampuannya dalam memberikan interpretasi yang jelas terhadap probabilitas keluarnya karyawan. Algoritma ini sangat cocok untuk hubungan linear antara variabel, seperti kemungkinan bahwa karyawan dengan riwayat kecelakaan kerja lebih cenderung untuk bertahan atau meninggalkan perusahaan. Dengan Logistic Regression, saya dapat memahami seberapa besar pengaruh setiap variabel terhadap keputusan karyawan, yang dapat membantu perusahaan dalam membuat kebijakan berbasis data.  \n",
    "\n",
    "Dengan kombinasi kedua algoritma ini, analisis menjadi lebih kuat **Random Forest memberikan akurasi yang tinggi dengan menangkap pola kompleks, sementara Logistic Regression memberikan wawasan yang lebih mudah dipahami mengenai hubungan antara variabel.** Hal ini memungkinkan saya untuk tidak hanya memprediksi perilaku karyawan, tetapi juga memahami alasan di balik keputusan mereka."
   ]
  },
  {
   "cell_type": "markdown",
   "metadata": {
    "id": "ergzChZFEL-O"
   },
   "source": [
    "## **b. Evaluasi Model Klasifikasi**"
   ]
  },
  {
   "cell_type": "markdown",
   "metadata": {
    "id": "zOm68u-7NpLT"
   },
   "source": [
    "Berikut adalah **rekomendasi** tahapannya.\n",
    "1. Lakukan prediksi menggunakan data uji.\n",
    "2. Hitung metrik evaluasi seperti Accuracy dan F1-Score (Opsional: Precision dan Recall).\n",
    "3. Buat confusion matrix untuk melihat detail prediksi benar dan salah."
   ]
  },
  {
   "cell_type": "code",
   "execution_count": 43,
   "metadata": {
    "id": "tMq4QAssNLip"
   },
   "outputs": [
    {
     "name": "stdout",
     "output_type": "stream",
     "text": [
      "              precision    recall  f1-score   support\n",
      "\n",
      "           0       1.00      1.00      1.00       318\n",
      "           1       1.00      1.00      1.00       597\n",
      "           2       1.00      1.00      1.00       398\n",
      "           3       1.00      1.00      1.00       638\n",
      "           4       1.00      1.00      1.00       446\n",
      "\n",
      "    accuracy                           1.00      2397\n",
      "   macro avg       1.00      1.00      1.00      2397\n",
      "weighted avg       1.00      1.00      1.00      2397\n",
      "\n"
     ]
    }
   ],
   "source": [
    "y_pred_rf = rf.predict(X_test)\n",
    "print(classification_report(y_test, y_pred_rf))"
   ]
  },
  {
   "cell_type": "code",
   "execution_count": 44,
   "metadata": {},
   "outputs": [
    {
     "data": {
      "image/png": "[encoded data removed]",
      "text/plain": [
       "<Figure size 1000x700 with 2 Axes>"
      ]
     },
     "metadata": {},
     "output_type": "display_data"
    }
   ],
   "source": [
    "cm_rf = confusion_matrix(y_test, y_pred_rf)\n",
    "plt.figure(figsize=(10, 7))\n",
    "sns.heatmap(cm_rf, annot=True, fmt='d', cmap='RdPu')\n",
    "plt.title('Confusion Matrix - Random Forest')\n",
    "plt.xlabel('Predicted')\n",
    "plt.ylabel('Actual')\n",
    "plt.show()"
   ]
  },
  {
   "cell_type": "code",
   "execution_count": 45,
   "metadata": {},
   "outputs": [
    {
     "name": "stdout",
     "output_type": "stream",
     "text": [
      "              precision    recall  f1-score   support\n",
      "\n",
      "           0       1.00      1.00      1.00       318\n",
      "           1       1.00      1.00      1.00       597\n",
      "           2       1.00      1.00      1.00       398\n",
      "           3       1.00      1.00      1.00       638\n",
      "           4       1.00      1.00      1.00       446\n",
      "\n",
      "    accuracy                           1.00      2397\n",
      "   macro avg       1.00      1.00      1.00      2397\n",
      "weighted avg       1.00      1.00      1.00      2397\n",
      "\n"
     ]
    }
   ],
   "source": [
    "y_pred_lr = lr.predict(X_test)\n",
    "print(classification_report(y_test, y_pred_lr))"
   ]
  },
  {
   "cell_type": "code",
   "execution_count": 46,
   "metadata": {},
   "outputs": [
    {
     "data": {
      "image/png": "[encoded data removed]",
      "text/plain": [
       "<Figure size 1000x700 with 2 Axes>"
      ]
     },
     "metadata": {},
     "output_type": "display_data"
    }
   ],
   "source": [
    "cm_lr = confusion_matrix(y_test, y_pred_lr)\n",
    "plt.figure(figsize=(10, 7))\n",
    "sns.heatmap(cm_rf, annot=True, fmt='d', cmap='RdPu')\n",
    "plt.title('Confusion Matrix - Logistic Regression')\n",
    "plt.xlabel('Predicted')\n",
    "plt.ylabel('Actual')\n",
    "plt.show()"
   ]
  },
  {
   "cell_type": "markdown",
   "metadata": {
    "id": "H4_9OwrsXZlz"
   },
   "source": [
    "Berdasarkan hasil evaluasi, saya membandingkan performa dua algoritma klasifikasi, yaitu **Random Forest Classifier** dan **Logistic Regression**. Kedua model menunjukkan performa yang sangat baik dengan **akurasi 100%**. Hal ini berarti kedua model mampu mengklasifikasikan semua data uji dengan sempurna tanpa kesalahan.\n",
    "\n",
    "### **Evaluasi Random Forest Classifier**\n",
    "- Precision, Recall, dan F1-score untuk semua kelas bernilai 1.00, menunjukkan bahwa model tidak hanya mampu mengidentifikasi semua sampel dengan benar tetapi juga tidak menghasilkan kesalahan dalam klasifikasi.\n",
    "- Model ini dapat menangkap pola kompleks dalam data karena menggunakan kombinasi banyak pohon keputusan, yang membuatnya sangat kuat dalam menangani variabel yang kompleks.\n",
    "\n",
    "### **Evaluasi Logistic Regression**\n",
    "- Precision, Recall, dan F1-score juga bernilai 1.00 untuk semua kelas.\n",
    "- Meskipun Logistic Regression adalah model linear yang biasanya kurang efektif dalam menangkap hubungan non-linear, hasil ini menunjukkan bahwa dataset yang digunakan kemungkinan memiliki pola yang cukup jelas sehingga dapat dengan mudah dipisahkan oleh model ini.\n",
    "\n",
    "### **Kesimpulan dan Perbandingan**\n",
    "- Kedua algoritma memberikan hasil yang identik dengan akurasi 100%, yang bisa jadi mengindikasikan bahwa dataset memiliki pola klasifikasi yang sangat jelas dan mudah dipisahkan.\n",
    "- Random Forest biasanya lebih unggul dalam menangani dataset yang kompleks dan memiliki fitur non-linear, sementara Logistic Regression cenderung lebih sederhana dan lebih mudah untuk diinterpretasikan.\n",
    "- Jika mempertimbangkan efisiensi komputasi, Logistic Regression lebih ringan, sedangkan Random Forest lebih kuat dalam menangani data besar dan fitur yang banyak.\n",
    "\n",
    "Secara keseluruhan, karena keduanya memiliki akurasi yang sama, pemilihan algoritma dapat bergantung pada kebutuhan spesifik, seperti interpretabilitas model atau efisiensi komputasi."
   ]
  },
  {
   "cell_type": "markdown",
   "metadata": {
    "id": "ZRsOdm4uEgAW"
   },
   "source": [
    "## **.C Analisis Hasil Evaluasi Model Klasifikasi**"
   ]
  },
  {
   "cell_type": "markdown",
   "metadata": {
    "id": "Hm3BhSi6N4_l"
   },
   "source": [
    "### **Hasil Evaluasi Model Klasifikasi**  \n",
    "\n",
    "Berdasarkan hasil evaluasi menggunakan classification report, kedua model, yaitu Random Forest Classifier dan Logistic Regression, menunjukkan performa akurasi 100% pada data uji. Hal ini berarti bahwa model mampu mengklasifikasikan setiap sampel dengan benar.  \n",
    "\n",
    "Meskipun kedua model memiliki akurasi yang sama, pendekatan yang digunakan berbeda:  \n",
    "- Random Forest bekerja dengan menggabungkan banyak pohon keputusan untuk meningkatkan stabilitas dan akurasi.  \n",
    "- Logistic Regression adalah model linear yang lebih sederhana namun efektif dalam menangani data dengan hubungan linier antara variabel.  \n",
    "\n",
    "### **Identifikasi Kelemahan Model**  \n",
    "\n",
    "#### **Precision dan Recall Rendah untuk Kelas Tertentu**  \n",
    "- Berdasarkan hasil evaluasi, **precision dan recall bernilai 1.00 untuk semua kelas**, yang menunjukkan bahwa tidak ada kelas tertentu yang mengalami penurunan performa.  \n",
    "- Tidak ditemukan bias model terhadap kelas tertentu karena semua kelas diklasifikasikan dengan sempurna.  \n",
    "\n",
    "#### **Model Mengalami Overfitting atau Underfitting?**  \n",
    "- **Akurasi 100% pada data uji** bisa menjadi indikasi **overfitting**, terutama jika model hanya diuji pada dataset yang sangat mirip dengan data latih.  \n",
    "- Kemungkinan overfitting perlu diuji lebih lanjut, karena dalam kasus nyata, sangat jarang sebuah model memiliki akurasi sempurna kecuali dataset sangat sederhana atau memiliki pola yang sangat jelas.  \n",
    "- Jika model tetap menunjukkan 100% akurasi setelah diuji dengan data baru, maka kemungkinan dataset memang sangat mudah dipelajari, bukan karena overfitting.  \n",
    "\n",
    "Beberapa faktor yang perlu dipertimbangkan:  \n",
    "1. Data Leakage : Jika ada kebocoran data dari pelatihan ke pengujian, model bisa terlihat \"sempurna\" tanpa benar-benar memiliki generalisasi yang baik.  \n",
    "2. Kompleksitas Dataset : Jika dataset memiliki pola yang sangat jelas dan tidak terlalu kompleks, model memang bisa mencapai akurasi tinggi tanpa overfitting.  \n",
    "\n",
    "### **Rekomendasi Tindakan Lanjutan**  \n",
    "\n",
    "Meskipun hasil evaluasi sangat baik, beberapa langkah dapat dilakukan untuk memastikan bahwa model tidak mengalami overfitting dan memiliki kemampuan generalisasi yang baik:  \n",
    "\n",
    "1. **Uji dengan Data Baru (Unseen Data)**  \n",
    "   - Gunakan dataset yang benar-benar baru dan tidak digunakan dalam proses pelatihan atau validasi.  \n",
    "   - Lihat apakah model masih mampu mempertahankan performa tinggi.  \n",
    "\n",
    "2. **Cross-Validation**  \n",
    "   - Terapkan k-fold cross-validation untuk melihat apakah model tetap memiliki performa yang stabil pada berbagai subset data.  \n",
    "   - Ini akan membantu memastikan bahwa model tidak hanya \"mengingat\" data latih tetapi benar-benar memahami pola.  \n",
    "\n",
    "3. **Evaluasi pada Data dengan Noise**  \n",
    "   - Tambahkan sedikit noise atau variasi pada data uji untuk melihat apakah model tetap bekerja dengan baik.  \n",
    "   - Model yang terlalu sensitif terhadap perubahan kecil dalam data mungkin mengalami overfitting.  \n",
    "\n",
    "4. **Periksa Distribusi Data Latih vs. Data Uji**  \n",
    "   - Pastikan data uji tidak terlalu mirip dengan data latih hingga model hanya “mengingat” tanpa memahami pola sebenarnya.  \n",
    "   - Jika perlu, gunakan stratified sampling untuk membagi dataset dengan lebih baik.  \n",
    "\n",
    "Jika setelah pengujian lebih lanjut model masih menunjukkan akurasi tinggi, maka kemungkinan dataset memang mudah untuk diklasifikasikan. Namun, jika akurasi turun secara signifikan, maka ada indikasi overfitting, dan perlu dilakukan perbaikan seperti reduksi kompleksitas model atau pengumpulan data tambahan."
   ]
  },
  {
   "cell_type": "code",
   "execution_count": null,
   "metadata": {},
   "outputs": [],
   "source": []
  }
 ],
 "metadata": {
  "colab": {
   "provenance": []
  },
  "kernelspec": {
   "display_name": "Python 3 (ipykernel)",
   "language": "python",
   "name": "python3"
  },
  "language_info": {
   "codemirror_mode": {
    "name": "ipython",
    "version": 3
   },
   "file_extension": ".py",
   "mimetype": "text/x-python",
   "name": "python",
   "nbconvert_exporter": "python",
   "pygments_lexer": "ipython3",
   "version": "3.13.2"
  }
 },
 "nbformat": 4,
 "nbformat_minor": 4
}
